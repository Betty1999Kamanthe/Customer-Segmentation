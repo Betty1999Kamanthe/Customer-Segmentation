{
  "cells": [
    {
      "cell_type": "markdown",
      "metadata": {
        "id": "view-in-github",
        "colab_type": "text"
      },
      "source": [
        "<a href=\"https://colab.research.google.com/github/Betty1999Kamanthe/Customer-Segmentation/blob/main/Push_Up_Detection.ipynb\" target=\"_parent\"><img src=\"https://colab.research.google.com/assets/colab-badge.svg\" alt=\"Open In Colab\"/></a>"
      ]
    },
    {
      "cell_type": "code",
      "execution_count": null,
      "metadata": {
        "colab": {
          "base_uri": "https://localhost:8080/"
        },
        "id": "Lqfmd8YkktjM",
        "outputId": "c6fd7079-a173-406b-aa3b-3311efe11cd2"
      },
      "outputs": [
        {
          "name": "stdout",
          "output_type": "stream",
          "text": [
            "\u001b[2K     \u001b[90m━━━━━━━━━━━━━━━━━━━━━━━━━━━━━━━━━━━━━━━━\u001b[0m \u001b[32m35.6/35.6 MB\u001b[0m \u001b[31m25.5 MB/s\u001b[0m eta \u001b[36m0:00:00\u001b[0m\n",
            "\u001b[?25h  Preparing metadata (setup.py) ... \u001b[?25l\u001b[?25hdone\n",
            "  Building wheel for cvzone (setup.py) ... \u001b[?25l\u001b[?25hdone\n",
            "\u001b[2K     \u001b[90m━━━━━━━━━━━━━━━━━━━━━━━━━━━━━━━━━━━━━━━━\u001b[0m \u001b[32m8.5/8.5 MB\u001b[0m \u001b[31m25.7 MB/s\u001b[0m eta \u001b[36m0:00:00\u001b[0m\n",
            "\u001b[2K     \u001b[90m━━━━━━━━━━━━━━━━━━━━━━━━━━━━━━━━━━━━━━━━\u001b[0m \u001b[32m207.3/207.3 kB\u001b[0m \u001b[31m20.3 MB/s\u001b[0m eta \u001b[36m0:00:00\u001b[0m\n",
            "\u001b[2K     \u001b[90m━━━━━━━━━━━━━━━━━━━━━━━━━━━━━━━━━━━━━━━━\u001b[0m \u001b[32m6.9/6.9 MB\u001b[0m \u001b[31m55.3 MB/s\u001b[0m eta \u001b[36m0:00:00\u001b[0m\n",
            "\u001b[2K     \u001b[90m━━━━━━━━━━━━━━━━━━━━━━━━━━━━━━━━━━━━━━━━\u001b[0m \u001b[32m83.0/83.0 kB\u001b[0m \u001b[31m9.5 MB/s\u001b[0m eta \u001b[36m0:00:00\u001b[0m\n",
            "\u001b[2K     \u001b[90m━━━━━━━━━━━━━━━━━━━━━━━━━━━━━━━━━━━━━━━━\u001b[0m \u001b[32m62.7/62.7 kB\u001b[0m \u001b[31m7.5 MB/s\u001b[0m eta \u001b[36m0:00:00\u001b[0m\n",
            "\u001b[?25h"
          ]
        }
      ],
      "source": [
        "#Requirements.txt\n",
        "!pip install -q tensorflow==2.15.0\n",
        "!pip install -q mediapipe==0.10.11\n",
        "!pip install -q cvzone\n",
        "!pip install streamlit -q\n",
        "!pip install -q pyngrok\n"
      ]
    },
    {
      "cell_type": "code",
      "execution_count": null,
      "metadata": {
        "colab": {
          "base_uri": "https://localhost:8080/"
        },
        "id": "bPS33Qc9fJ5a",
        "outputId": "298b4f02-a1f9-47b3-b0f5-11a10e7f6785"
      },
      "outputs": [
        {
          "name": "stdout",
          "output_type": "stream",
          "text": [
            "3.10.12 (main, Nov 20 2023, 15:14:05) [GCC 11.4.0]\n"
          ]
        }
      ],
      "source": [
        "import sys\n",
        "print(sys.version)"
      ]
    },
    {
      "cell_type": "markdown",
      "metadata": {
        "id": "JzWqQkltq_QE"
      },
      "source": [
        "# Main Code\n"
      ]
    },
    {
      "cell_type": "code",
      "execution_count": null,
      "metadata": {
        "colab": {
          "base_uri": "https://localhost:8080/"
        },
        "id": "h7hgkHlSrLBF",
        "outputId": "5b479dc6-8dd8-47f3-c939-41b91f30c664"
      },
      "outputs": [
        {
          "name": "stdout",
          "output_type": "stream",
          "text": [
            "Overwriting streamlit_app.py\n"
          ]
        }
      ],
      "source": [
        "%%writefile streamlit_app.py\n",
        "import streamlit as st\n",
        "import cv2 #Used to handle computer vision\n",
        "import mediapipe as mp #Google ML Features\n",
        "import numpy as np # For calculations\n",
        "import cvzone\n",
        "from cvzone.PoseModule import PoseDetector\n",
        "import math # to find angles\n",
        "from google.colab.patches import cv2_imshow\n",
        "import time\n",
        "\n",
        "counter = 0\n",
        "direction = 0\n",
        "left_angle_list = []\n",
        "right_angle_list = []\n",
        "\n",
        "\n",
        "#Detect pose\n",
        "pd = PoseDetector(trackCon=0.8,detectionCon=0.8)\n",
        "\n",
        "# Get the points of the body you want to track\n",
        "def angles(lmlist,p1,p2,p3,p4,p5,p6,drawpoints):\n",
        "\n",
        "  global counter\n",
        "  global direction\n",
        "\n",
        "  if len(lmlist)!=0:\n",
        "    point1 = lmlist[p1]\n",
        "    point2 = lmlist[p2]\n",
        "    point3 = lmlist[p3]\n",
        "    point4 = lmlist[p4]\n",
        "    point5 = lmlist[p5]\n",
        "    point6 = lmlist[p6]\n",
        "    #Get the middle points\n",
        "    x1,y1 = point1[0:-1]\n",
        "    x2,y2 = point2[0:-1]\n",
        "    x3,y3 = point3[0:-1]\n",
        "    x4,y4 = point4[0:-1]\n",
        "    x5,y5 = point5[0:-1]\n",
        "    x6,y6 = point6[0:-1]\n",
        "\n",
        "    #Draw the points\n",
        "    if drawpoints == True:\n",
        "      cv2.circle(img,(x1,y1),10,(162,25,255),5)\n",
        "      cv2.circle(img,(x1,y1),15,(243,225,255),5)\n",
        "      cv2.circle(img,(x2,y2),10,(162,25,255),5)\n",
        "      cv2.circle(img,(x2,y2),15,(243,225,255),5)\n",
        "      cv2.circle(img,(x3,y3),10,(162,25,255),5)\n",
        "      cv2.circle(img,(x3,y3),15,(243,225,255),5)\n",
        "      cv2.circle(img,(x4,y4),10,(162,25,255),5)\n",
        "      cv2.circle(img,(x4,y4),15,(243,225,255),5)\n",
        "      cv2.circle(img,(x5,y5),10,(162,25,255),5)\n",
        "      cv2.circle(img,(x5,y5),15,(243,225,255),5)\n",
        "      cv2.circle(img,(x6,y6),10,(162,25,255),5)\n",
        "      cv2.circle(img,(x6,y6),15,(243,225,255),5)\n",
        "\n",
        "      # Draw a line between the points\n",
        "      cv2.line(img,(x1,y1),(x2,y2),(0,0,255),6)\n",
        "      cv2.line(img,(x2,y2),(x3,y3),(0,0,255),6)\n",
        "      cv2.line(img,(x4,y4),(x5,y5),(0,0,255),6)\n",
        "      cv2.line(img,(x5,y5),(x6,y6),(0,0,255),6)\n",
        "      cv2.line(img,(x1,y1),(x4,y4),(0,0,255),6)\n",
        "\n",
        "    # Find the angles\n",
        "    lefthandangle = math.degrees(math.atan2(y3-y2,x3-x2)-math.atan2(y1-y2,x1-x2))\n",
        "    righthandangle = math.degrees(math.atan2(y6-y5,x6-x5)-math.atan2(y4-y5,x4-x5))\n",
        "\n",
        "    #print(lefthandangle,righthandangle)\n",
        "    lefthandangle = int(np.interp(lefthandangle,[-30,180],[100,0]))\n",
        "    righthandangle = int(np.interp(righthandangle,[-30,180],[100,0]))\n",
        "\n",
        "    right_angle_list.append(righthandangle)\n",
        "    left_angle_list.append(lefthandangle)\n",
        "\n",
        "\n",
        "    # Create the counter\n",
        "    if lefthandangle >=60 and righthandangle >=60:\n",
        "      if direction == 0:\n",
        "        counter += 0.5\n",
        "        direction = 1\n",
        "\n",
        "    if lefthandangle < 60 and righthandangle <60:\n",
        "      if direction == 1:\n",
        "        counter += 0.5\n",
        "        direction = 0\n",
        "\n",
        "    # Build the rectangle counter\n",
        "    cv2.rectangle(img,(0,0),(120,120),(162,25,255),-1)\n",
        "    cv2.putText(img,str(int(counter)),(4,70),cv2.FONT_HERSHEY_SCRIPT_SIMPLEX,1.6,\n",
        "                (243,225,255),7)\n",
        "\n",
        "    leftval = np.interp(lefthandangle,[0,100],[400,200])\n",
        "    rightval = np.interp(righthandangle,[0,100],[400,200])\n",
        "\n",
        "    cv2.putText(img,'R',(24,195),cv2.FONT_HERSHEY_DUPLEX,1,\n",
        "                (243,225,255),7)\n",
        "    cv2.rectangle(img,(8,200),(50,400),(162,25,255),5)\n",
        "    cv2.rectangle(img,(8,int(rightval)),(50,400),(162,25,255),-1)\n",
        "\n",
        "    cv2.putText(img,'L',(962,195),cv2.FONT_HERSHEY_DUPLEX,1,\n",
        "                (243,225,255),7)\n",
        "    cv2.rectangle(img,(952,200),(995,400),(162,25,255),5)\n",
        "    cv2.rectangle(img,(952,int(leftval)),(995,400),(162,25,255),-1)\n",
        "\n",
        "\n",
        "\n",
        "\n",
        "st.title(\"\"\"Push-Up Drill \"\"\")\n",
        "# Instructions\n",
        "instruction = '''**Instructions from Savana**\n",
        "1. Ensure that the uploaded video is clear.\n",
        "2. Place your phone at least 60 CM from you.\n",
        "3. Place your phone in portrait when you are taking the video.\n",
        "4. Ensure that your video is at least 30 secs long'''\n",
        "\n",
        "st.info(instruction)\n",
        "\n",
        "uploaded_file = st.file_uploader(\"Choose a Video file\", type=['mp4', 'avi', 'mov'])\n",
        "if uploaded_file is not None:\n",
        "    bytes_data = uploaded_file.read()\n",
        "\n",
        "    temp_video_path = \"temp_video.mp4\"\n",
        "    with open(temp_video_path, \"wb\") as f:\n",
        "        f.write(bytes_data)\n",
        "\n",
        "    cap = cv2.VideoCapture(temp_video_path)\n",
        "\n",
        "    if not cap.isOpened():\n",
        "        st.error(\"Error: Unable to open the uploaded video file.\")\n",
        "    else:\n",
        "        st.success(\"Video loaded successfully!\")\n",
        "        st.video(temp_video_path)\n",
        "\n",
        "        processed_frames = []\n",
        "\n",
        "        while True:\n",
        "          ret, img = cap.read()\n",
        "          if not ret:\n",
        "              break\n",
        "\n",
        "          pd.findPose(img, draw=0)\n",
        "          lmlist, bbox = pd.findPosition(img, draw=0, bboxWithHands=0)\n",
        "\n",
        "          #Call the draw points function\n",
        "          angles(lmlist,11,13,15,12,14,16,drawpoints=1)\n",
        "\n",
        "          # Add the processed frame to the list\n",
        "          processed_frames.append(img)\n",
        "\n",
        "        # Display the counter and angles\n",
        "        col1, col2 = st.columns(2)\n",
        "\n",
        "        with col1:\n",
        "          st.header(\"Left Hand \")\n",
        "          # Display the maximum and minimum angles\n",
        "          if left_angle_list:\n",
        "              left_max_angle = max(left_angle_list)\n",
        "              left_min_angle = min(left_angle_list)\n",
        "              st.write(f\"Left Hand Maximum Angle: {left_max_angle} degrees\")\n",
        "              st.write(f\"Left Hand Minimum Angle: {left_min_angle} degrees\")\n",
        "          else:\n",
        "              st.write(\"No angles calculated.\")\n",
        "\n",
        "        with col2:\n",
        "          st.header(\"Right Hand\")\n",
        "          if right_angle_list:\n",
        "              right_max_angle = max(right_angle_list)\n",
        "              right_min_angle = min(right_angle_list)\n",
        "              st.write(f\"Right Hand Maximum Angle: {right_max_angle} degrees\")\n",
        "              st.write(f\"Right Hand Minimum Angle: {right_min_angle} degrees\")\n",
        "          else:\n",
        "              st.write(\"No angles calculated.\")\n",
        "\n",
        "        st.header(f\"Push-Up Count: {int(counter)}\")\n",
        "\n",
        "        # Hard Coding the suggestions\n",
        "\n",
        "        st.markdown(\"\"\" # Savana's Suggestion \"\"\")\n",
        "\n",
        "        if left_min_angle != right_min_angle:\n",
        "          st.write(f\"Please ensure that no shadow is blocking your right or left elbows\")\n",
        "          st.write(f\"Please ensure that your right and left shoulders are visible\")\n",
        "        if left_max_angle < 80 or right_max_angle < 80:\n",
        "          st.write(f\"Seems like there is less power when you are coming up\")\n",
        "          st.write(f\"Common error: Poor hand and elbow position that is hands turned in and elbows flared out. Keep your shoulder blades together.\")\n",
        "        if left_max_angle < right_max_angle:\n",
        "          st.write(f\"It seems like you are leaning more to your left\")\n",
        "        if left_max_angle > right_max_angle:\n",
        "          st.write(f\"It seems like you are leaning more to your right\")\n",
        "\n",
        "        st.markdown(\"\"\" # Savana's Ratings \"\"\")\n",
        "\n",
        "        # Calculate the percentile based on 12 push-ups being the median\n",
        "        median = 12\n",
        "        # Assign points based on percentile\n",
        "        if counter >= median+10:\n",
        "            points = 5\n",
        "        elif counter >= median+5:\n",
        "            points = 4\n",
        "        elif counter >= median:\n",
        "            points = 3\n",
        "        elif counter >= median-5:\n",
        "            points = 2\n",
        "        elif counter >= 1:\n",
        "            points = 1\n",
        "        else:\n",
        "            points = 0\n",
        "\n",
        "        st.write(f\"Our Average player does {median} pushups in 30 seconds, let's see how you rank against that.\")\n",
        "        st.write(f\"Your points are: {points}\")\n",
        "        # Release the video capture object and close the window\n",
        "        #cap.release()\n",
        "\n",
        "        #Save the processed frames as a video file\n",
        "        out_video_path = \"processed_video.mp4\"\n",
        "        frame_width = int(cap.get(3))\n",
        "        frame_height = int(cap.get(4))\n",
        "        out = cv2.VideoWriter(out_video_path, cv2.VideoWriter_fourcc(*'mp4v'), 30, (frame_width, frame_height))\n",
        "        for frame in processed_frames:\n",
        "          # Convert the frame to appropriate color space convert BGR to RGB\n",
        "          frame_rgb = cv2.cvtColor(frame, cv2.COLOR_BGR2RGB)\n",
        "          out.write(frame)\n",
        "\n",
        "        st.video(out_video_path)\n",
        "\n",
        "        out.release()\n",
        "\n",
        "\n",
        "\n",
        "\n",
        "\n",
        "\n"
      ]
    },
    {
      "cell_type": "markdown",
      "metadata": {
        "id": "WdVc3m5algDG"
      },
      "source": [
        "## Get your external URL\n"
      ]
    },
    {
      "cell_type": "code",
      "execution_count": null,
      "metadata": {
        "colab": {
          "base_uri": "https://localhost:8080/"
        },
        "id": "y1RVEWo1V1Gg",
        "outputId": "692221cf-4944-4ba5-e80e-a06e73e37ae0"
      },
      "outputs": [
        {
          "name": "stdout",
          "output_type": "stream",
          "text": [
            "35.197.82.122\n"
          ]
        }
      ],
      "source": [
        "!wget -q -O - ipv4.icanhazip.com"
      ]
    },
    {
      "cell_type": "code",
      "execution_count": null,
      "metadata": {
        "colab": {
          "background_save": true,
          "base_uri": "https://localhost:8080/"
        },
        "id": "nmCbMCzh8I8G",
        "outputId": "70ef303e-f2f5-45b0-df52-28c653fbb3ad"
      },
      "outputs": [
        {
          "metadata": {
            "tags": null
          },
          "name": "stdout",
          "output_type": "stream",
          "text": [
            "\n",
            "Collecting usage statistics. To deactivate, set browser.gatherUsageStats to false.\n",
            "\u001b[0m\n",
            "\u001b[0m\n",
            "\u001b[34m\u001b[1m  You can now view your Streamlit app in your browser.\u001b[0m\n",
            "\u001b[0m\n",
            "\u001b[34m  Network URL: \u001b[0m\u001b[1mhttp://172.28.0.12:8501\u001b[0m\n",
            "\u001b[34m  External URL: \u001b[0m\u001b[1mhttp://35.197.82.122:8501\u001b[0m\n",
            "\u001b[0m\n",
            "\u001b[K\u001b[?25hnpx: installed 22 in 3.187s\n",
            "your url is: https://ripe-chairs-smash.loca.lt\n",
            "2024-05-10 13:44:40.817037: E external/local_xla/xla/stream_executor/cuda/cuda_dnn.cc:9261] Unable to register cuDNN factory: Attempting to register factory for plugin cuDNN when one has already been registered\n",
            "2024-05-10 13:44:40.817126: E external/local_xla/xla/stream_executor/cuda/cuda_fft.cc:607] Unable to register cuFFT factory: Attempting to register factory for plugin cuFFT when one has already been registered\n",
            "2024-05-10 13:44:40.819183: E external/local_xla/xla/stream_executor/cuda/cuda_blas.cc:1515] Unable to register cuBLAS factory: Attempting to register factory for plugin cuBLAS when one has already been registered\n",
            "2024-05-10 13:44:40.831372: I tensorflow/core/platform/cpu_feature_guard.cc:182] This TensorFlow binary is optimized to use available CPU instructions in performance-critical operations.\n",
            "To enable the following instructions: AVX2 FMA, in other operations, rebuild TensorFlow with the appropriate compiler flags.\n",
            "2024-05-10 13:44:42.358112: W tensorflow/compiler/tf2tensorrt/utils/py_utils.cc:38] TF-TRT Warning: Could not find TensorRT\n",
            "INFO: Created TensorFlow Lite XNNPACK delegate for CPU.\n",
            "/root/.npm/_npx/7216/lib/node_modules/localtunnel/bin/lt.js:81\n",
            "    throw err;\n",
            "    ^\n",
            "\n",
            "Error: connection refused: localtunnel.me:36947 (check your firewall settings)\n",
            "    at Socket.<anonymous> (/root/.npm/_npx/7216/lib/node_modules/\u001b[4mlocaltunnel\u001b[24m/lib/TunnelCluster.js:52:11)\n",
            "\u001b[90m    at Socket.emit (events.js:315:20)\u001b[39m\n",
            "\u001b[90m    at emitErrorNT (internal/streams/destroy.js:106:8)\u001b[39m\n",
            "\u001b[90m    at emitErrorCloseNT (internal/streams/destroy.js:74:3)\u001b[39m\n",
            "\u001b[90m    at processTicksAndRejections (internal/process/task_queues.js:80:21)\u001b[39m\n"
          ]
        }
      ],
      "source": [
        "!streamlit run streamlit_app.py & npx localtunnel --port 8501"
      ]
    },
    {
      "cell_type": "code",
      "execution_count": null,
      "metadata": {
        "id": "rFb_DWpq-EoP"
      },
      "outputs": [],
      "source": []
    }
  ],
  "metadata": {
    "colab": {
      "provenance": [],
      "authorship_tag": "ABX9TyOfXWPWiAAQN2nk7aaEDgB6",
      "include_colab_link": true
    },
    "kernelspec": {
      "display_name": "Python 3",
      "name": "python3"
    },
    "language_info": {
      "name": "python"
    }
  },
  "nbformat": 4,
  "nbformat_minor": 0
}